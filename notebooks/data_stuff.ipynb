{
 "cells": [
  {
   "cell_type": "code",
   "execution_count": 6,
   "id": "f0dfd2af",
   "metadata": {},
   "outputs": [],
   "source": [
    "import os\n",
    "import sys\n",
    "sys.path.append('..')"
   ]
  },
  {
   "cell_type": "code",
   "execution_count": 2,
   "id": "bef9bc6c",
   "metadata": {},
   "outputs": [],
   "source": [
    "orig_path = 'data/orig/input'\n",
    "new_path = 'data/santana/'"
   ]
  },
  {
   "cell_type": "code",
   "execution_count": 17,
   "id": "c1cfad67",
   "metadata": {},
   "outputs": [],
   "source": [
    "with open(f'../{orig_path}/train.tsv', 'r') as f, \\\n",
    "     open(f'../{new_path}/source.txt', 'w') as src, \\\n",
    "     open(f'../{new_path}/target.txt', 'w') as tgt:\n",
    "    header = f.readline()\n",
    "    for line in f:\n",
    "        toxic, *paras = line.split('\\t')  # paraphrases\n",
    "        for para in paras:\n",
    "            para = para.strip()\n",
    "            if para:\n",
    "                src.write(toxic.rstrip() + '\\n')\n",
    "                tgt.write(para.rstrip() + '\\n')"
   ]
  },
  {
   "cell_type": "code",
   "execution_count": 20,
   "id": "cc01dc01",
   "metadata": {},
   "outputs": [
    {
     "name": "stdout",
     "output_type": "stream",
     "text": [
      "4958\n",
      "4958\n"
     ]
    }
   ],
   "source": [
    "# check lengths\n",
    "with open(f'../{new_path}/source.txt', 'r') as src:\n",
    "    with open(f'../{new_path}/target.txt', 'r') as tgt:\n",
    "        print(len(src.read().splitlines()))\n",
    "        print(len(tgt.read().splitlines()))"
   ]
  },
  {
   "cell_type": "code",
   "execution_count": null,
   "id": "539084d2",
   "metadata": {},
   "outputs": [],
   "source": []
  }
 ],
 "metadata": {
  "kernelspec": {
   "display_name": "Python 3 (ipykernel)",
   "language": "python",
   "name": "python3"
  },
  "language_info": {
   "codemirror_mode": {
    "name": "ipython",
    "version": 3
   },
   "file_extension": ".py",
   "mimetype": "text/x-python",
   "name": "python",
   "nbconvert_exporter": "python",
   "pygments_lexer": "ipython3",
   "version": "3.9.5"
  }
 },
 "nbformat": 4,
 "nbformat_minor": 5
}
