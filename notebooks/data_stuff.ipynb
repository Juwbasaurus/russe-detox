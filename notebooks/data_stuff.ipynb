{
 "cells": [
  {
   "cell_type": "code",
   "execution_count": 1,
   "id": "f0dfd2af",
   "metadata": {},
   "outputs": [],
   "source": [
    "import csv\n",
    "import os\n",
    "import sys\n",
    "sys.path.append('..')"
   ]
  },
  {
   "cell_type": "code",
   "execution_count": 2,
   "id": "bef9bc6c",
   "metadata": {},
   "outputs": [],
   "source": [
    "orig_path = '../data/orig/input'\n",
    "new_path = 'data/santana/'"
   ]
  },
  {
   "cell_type": "code",
   "execution_count": 4,
   "id": "8263e8b0",
   "metadata": {},
   "outputs": [],
   "source": [
    "with open(f'../{new_path}/train/source.txt', 'w', encoding='utf8') as src, \\\n",
    "     open(f'../{new_path}/train/target.txt', 'w', encoding='utf8') as tgt, \\\n",
    "     open(f'{orig_path}/train.tsv', 'r', encoding='utf8') as tsv:\n",
    "    reader = csv.DictReader(tsv, delimiter='\\t')\n",
    "    for row in reader:\n",
    "        toxic = row['toxic_comment']\n",
    "        paras = [\n",
    "            row['neutral_comment1'],\n",
    "            row['neutral_comment2'],\n",
    "            row['neutral_comment3'],\n",
    "        ]\n",
    "        for para in paras:\n",
    "            if para:\n",
    "                src.write(toxic.replace('\\n', '') + '\\n')\n",
    "                tgt.write(para.replace('\\n', '') + '\\n')"
   ]
  },
  {
   "cell_type": "code",
   "execution_count": 7,
   "id": "f420982d",
   "metadata": {},
   "outputs": [
    {
     "name": "stdout",
     "output_type": "stream",
     "text": [
      "11090\n",
      "11090\n"
     ]
    }
   ],
   "source": [
    "# check lengths\n",
    "with open(f'../{new_path}/train/source.txt', 'r', encoding='utf8') as src:\n",
    "    with open(f'../{new_path}/train/target.txt', 'r', encoding='utf8') as tgt:\n",
    "        print(len(src.read().splitlines()))\n",
    "        print(len(tgt.read().splitlines()))"
   ]
  },
  {
   "cell_type": "code",
   "execution_count": 8,
   "id": "b1a7143f",
   "metadata": {},
   "outputs": [],
   "source": [
    "with open(f'../{new_path}/test/source.txt', 'w', encoding='utf8') as src, \\\n",
    "     open(f'../{new_path}/test/target.txt', 'w', encoding='utf8') as tgt, \\\n",
    "     open(f'{orig_path}/dev.tsv', 'r', encoding='utf8') as tsv:\n",
    "    reader = csv.DictReader(tsv, delimiter='\\t')\n",
    "    for row in reader:\n",
    "        toxic = row['toxic_comment']\n",
    "        paras = [\n",
    "            row['neutral_comment1'],\n",
    "            row['neutral_comment2'],\n",
    "            row['neutral_comment3'],\n",
    "        ]\n",
    "        for para in paras:\n",
    "            if para:\n",
    "                src.write(toxic.replace('\\n', '') + '\\n')\n",
    "                tgt.write(para.replace('\\n', '') + '\\n')"
   ]
  },
  {
   "cell_type": "code",
   "execution_count": null,
   "id": "0e963167",
   "metadata": {},
   "outputs": [],
   "source": [
    "# check lengths\n",
    "with open(f'../{new_path}/train/source.txt', 'r', encoding='utf8') as src:\n",
    "    with open(f'../{new_path}/train/target.txt', 'r', encoding='utf8') as tgt:\n",
    "        print(len(src.read().splitlines()))\n",
    "        print(len(tgt.read().splitlines()))"
   ]
  }
 ],
 "metadata": {
  "kernelspec": {
   "display_name": "Python 3 (ipykernel)",
   "language": "python",
   "name": "python3"
  },
  "language_info": {
   "codemirror_mode": {
    "name": "ipython",
    "version": 3
   },
   "file_extension": ".py",
   "mimetype": "text/x-python",
   "name": "python",
   "nbconvert_exporter": "python",
   "pygments_lexer": "ipython3",
   "version": "3.8.11"
  }
 },
 "nbformat": 4,
 "nbformat_minor": 5
}
