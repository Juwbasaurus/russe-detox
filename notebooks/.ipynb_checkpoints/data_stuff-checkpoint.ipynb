{
 "cells": [
  {
   "cell_type": "code",
   "execution_count": 76,
   "id": "f0dfd2af",
   "metadata": {},
   "outputs": [],
   "source": [
    "import csv\n",
    "import os\n",
    "import sys\n",
    "sys.path.append('..')"
   ]
  },
  {
   "cell_type": "code",
   "execution_count": 32,
   "id": "bef9bc6c",
   "metadata": {},
   "outputs": [],
   "source": [
    "orig_path = '../data/orig/input'\n",
    "new_path = 'data/santana/'"
   ]
  },
  {
   "cell_type": "code",
   "execution_count": 82,
   "id": "8263e8b0",
   "metadata": {},
   "outputs": [],
   "source": [
    "with open(f'../{new_path}/source.txt', 'w') as src, \\\n",
    "     open(f'../{new_path}/target.txt', 'w') as tgt, \\\n",
    "     open(f'{orig_path}/train.tsv', 'r') as tsv:\n",
    "    reader = csv.DictReader(tsv, delimiter='\\t')\n",
    "    for row in reader:\n",
    "        toxic = row['toxic_comment']\n",
    "        paras = [\n",
    "            row['neutral_comment1'],\n",
    "            row['neutral_comment2'],\n",
    "            row['neutral_comment3'],\n",
    "        ]\n",
    "        for para in paras:\n",
    "            if para:\n",
    "                src.write(toxic.replace('\\n', '') + '\\n')\n",
    "                tgt.write(para.replace('\\n', '') + '\\n')"
   ]
  },
  {
   "cell_type": "code",
   "execution_count": 83,
   "id": "f420982d",
   "metadata": {},
   "outputs": [
    {
     "name": "stdout",
     "output_type": "stream",
     "text": [
      "11090\n",
      "11090\n"
     ]
    }
   ],
   "source": [
    "# check lengths\n",
    "with open(f'../{new_path}/source.txt', 'r') as src:\n",
    "    with open(f'../{new_path}/target.txt', 'r') as tgt:\n",
    "        print(len(src.read().splitlines()))\n",
    "        print(len(tgt.read().splitlines()))"
   ]
  }
 ],
 "metadata": {
  "kernelspec": {
   "display_name": "Python 3 (ipykernel)",
   "language": "python",
   "name": "python3"
  },
  "language_info": {
   "codemirror_mode": {
    "name": "ipython",
    "version": 3
   },
   "file_extension": ".py",
   "mimetype": "text/x-python",
   "name": "python",
   "nbconvert_exporter": "python",
   "pygments_lexer": "ipython3",
   "version": "3.9.5"
  }
 },
 "nbformat": 4,
 "nbformat_minor": 5
}
